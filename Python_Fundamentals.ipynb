{
  "nbformat": 4,
  "nbformat_minor": 0,
  "metadata": {
    "colab": {
      "provenance": [],
      "collapsed_sections": [
        "TjzUJ62crMBY",
        "KPoQHxLzrP2O",
        "pCehp894r7ej",
        "hMZ4xM88sVoA",
        "UmzlDBSpttYt",
        "c5S0vnEi0FZd",
        "xU9kp96IoIlt"
      ]
    },
    "kernelspec": {
      "name": "python3",
      "display_name": "Python 3"
    },
    "language_info": {
      "name": "python"
    }
  },
  "cells": [
    {
      "cell_type": "markdown",
      "source": [
        "Classes - Blueprint describing the features\n",
        "\n",
        "Object - specific objcet based off the blue print\n",
        "\n",
        "class - car \n",
        "\n",
        "object - ferrari "
      ],
      "metadata": {
        "id": "Vmc5v5Jvm0pb"
      }
    },
    {
      "cell_type": "markdown",
      "source": [
        "Python is open source - you can make your own libraries\n",
        "\n",
        "Its free\n",
        "\n",
        "It can run on any OS\n",
        "\n",
        "It has many libraries"
      ],
      "metadata": {
        "id": "6XycLTofnfXJ"
      }
    },
    {
      "cell_type": "markdown",
      "source": [
        "We first go to the python website and download it onto our computer & then use an IDE"
      ],
      "metadata": {
        "id": "HhJJX72xoRun"
      }
    },
    {
      "cell_type": "markdown",
      "source": [
        "You can download Anaconda to provide libraries and dependencies "
      ],
      "metadata": {
        "id": "v5fbxg9sovgg"
      }
    },
    {
      "cell_type": "markdown",
      "source": [
        "## Variables"
      ],
      "metadata": {
        "id": "TjzUJ62crMBY"
      }
    },
    {
      "cell_type": "markdown",
      "source": [
        "### Python is a ***Dynamically Typed language***\n",
        "\n",
        "- It doesnt require its type (string in this case) to be initialised"
      ],
      "metadata": {
        "id": "KPoQHxLzrP2O"
      }
    },
    {
      "cell_type": "code",
      "source": [
        "Variable = \"String\""
      ],
      "metadata": {
        "id": "zmDvc2kzo26Z"
      },
      "execution_count": null,
      "outputs": []
    },
    {
      "cell_type": "code",
      "execution_count": null,
      "metadata": {
        "colab": {
          "base_uri": "https://localhost:8080/",
          "height": 35
        },
        "id": "1DfsG5W0jBKJ",
        "outputId": "0aea8f05-6a8e-4fca-ecb9-fab68e6a0f01"
      },
      "outputs": [
        {
          "output_type": "execute_result",
          "data": {
            "text/plain": [
              "'String'"
            ],
            "application/vnd.google.colaboratory.intrinsic+json": {
              "type": "string"
            }
          },
          "metadata": {},
          "execution_count": 2
        }
      ],
      "source": [
        "Variable"
      ]
    },
    {
      "cell_type": "code",
      "source": [
        "Variable = 100"
      ],
      "metadata": {
        "id": "q3xG46h6rxY-"
      },
      "execution_count": null,
      "outputs": []
    },
    {
      "cell_type": "code",
      "source": [
        "Variable"
      ],
      "metadata": {
        "colab": {
          "base_uri": "https://localhost:8080/"
        },
        "id": "ijeG_nPzrzry",
        "outputId": "83442762-2b96-4486-f23b-dfb0e6865421"
      },
      "execution_count": null,
      "outputs": [
        {
          "output_type": "execute_result",
          "data": {
            "text/plain": [
              "100"
            ]
          },
          "metadata": {},
          "execution_count": 4
        }
      ]
    },
    {
      "cell_type": "markdown",
      "source": [
        "### Checking the type of a variable"
      ],
      "metadata": {
        "id": "pCehp894r7ej"
      }
    },
    {
      "cell_type": "code",
      "source": [
        "type(Variable)"
      ],
      "metadata": {
        "colab": {
          "base_uri": "https://localhost:8080/"
        },
        "id": "lgFyE3l2r41A",
        "outputId": "010b47ac-b28f-4016-e67d-33679decb28e"
      },
      "execution_count": null,
      "outputs": [
        {
          "output_type": "execute_result",
          "data": {
            "text/plain": [
              "int"
            ]
          },
          "metadata": {},
          "execution_count": 5
        }
      ]
    },
    {
      "cell_type": "code",
      "source": [
        "Variable = 3 + 5j"
      ],
      "metadata": {
        "id": "tsk77v76sK1S"
      },
      "execution_count": null,
      "outputs": []
    },
    {
      "cell_type": "code",
      "source": [
        "type(Variable)\n",
        "# this is a complex type number"
      ],
      "metadata": {
        "colab": {
          "base_uri": "https://localhost:8080/"
        },
        "id": "t3CnEV2EsRk6",
        "outputId": "1eca9518-37e8-4143-a3b0-c1a7aafc54b7"
      },
      "execution_count": null,
      "outputs": [
        {
          "output_type": "execute_result",
          "data": {
            "text/plain": [
              "complex"
            ]
          },
          "metadata": {},
          "execution_count": 7
        }
      ]
    },
    {
      "cell_type": "markdown",
      "source": [
        "## Operators"
      ],
      "metadata": {
        "id": "hMZ4xM88sVoA"
      }
    },
    {
      "cell_type": "code",
      "source": [
        "1+1"
      ],
      "metadata": {
        "colab": {
          "base_uri": "https://localhost:8080/"
        },
        "id": "TCibOn7Wse1C",
        "outputId": "3a67fe54-4d09-4232-f09b-9ea4138d9685"
      },
      "execution_count": null,
      "outputs": [
        {
          "output_type": "execute_result",
          "data": {
            "text/plain": [
              "2"
            ]
          },
          "metadata": {},
          "execution_count": 8
        }
      ]
    },
    {
      "cell_type": "code",
      "source": [
        "1-1"
      ],
      "metadata": {
        "colab": {
          "base_uri": "https://localhost:8080/"
        },
        "id": "98Imsxcusmak",
        "outputId": "d71cb4df-921c-45a6-a3c3-1da8845bb4a8"
      },
      "execution_count": 7,
      "outputs": [
        {
          "output_type": "execute_result",
          "data": {
            "text/plain": [
              "0"
            ]
          },
          "metadata": {},
          "execution_count": 7
        }
      ]
    },
    {
      "cell_type": "code",
      "source": [
        "1/1"
      ],
      "metadata": {
        "colab": {
          "base_uri": "https://localhost:8080/"
        },
        "id": "ZThQSnM_smdR",
        "outputId": "3cf65232-6c5c-4d34-c93d-a2341e4f44a4"
      },
      "execution_count": null,
      "outputs": [
        {
          "output_type": "execute_result",
          "data": {
            "text/plain": [
              "1.0"
            ]
          },
          "metadata": {},
          "execution_count": 10
        }
      ]
    },
    {
      "cell_type": "code",
      "source": [
        "1*1"
      ],
      "metadata": {
        "colab": {
          "base_uri": "https://localhost:8080/"
        },
        "id": "W7YQ7r4Vsmhu",
        "outputId": "8bed2913-2be9-4566-ea7f-6b35fcbea27f"
      },
      "execution_count": null,
      "outputs": [
        {
          "output_type": "execute_result",
          "data": {
            "text/plain": [
              "1"
            ]
          },
          "metadata": {},
          "execution_count": 12
        }
      ]
    },
    {
      "cell_type": "code",
      "source": [
        "1>3"
      ],
      "metadata": {
        "colab": {
          "base_uri": "https://localhost:8080/"
        },
        "id": "iRAZwL4Xs6WV",
        "outputId": "5fb73148-31e8-4087-a82e-ee7daf1a25ed"
      },
      "execution_count": null,
      "outputs": [
        {
          "output_type": "execute_result",
          "data": {
            "text/plain": [
              "False"
            ]
          },
          "metadata": {},
          "execution_count": 13
        }
      ]
    },
    {
      "cell_type": "code",
      "source": [
        "1<3"
      ],
      "metadata": {
        "colab": {
          "base_uri": "https://localhost:8080/"
        },
        "id": "RyKzM9was9uo",
        "outputId": "ad8c1152-6daf-417a-b8db-7fe5cf3a71d4"
      },
      "execution_count": null,
      "outputs": [
        {
          "output_type": "execute_result",
          "data": {
            "text/plain": [
              "True"
            ]
          },
          "metadata": {},
          "execution_count": 14
        }
      ]
    },
    {
      "cell_type": "code",
      "source": [
        "1==3"
      ],
      "metadata": {
        "colab": {
          "base_uri": "https://localhost:8080/"
        },
        "id": "1nYWWvkws_rB",
        "outputId": "3a03d50f-2621-4bba-f07e-fa64e3d40d66"
      },
      "execution_count": null,
      "outputs": [
        {
          "output_type": "execute_result",
          "data": {
            "text/plain": [
              "False"
            ]
          },
          "metadata": {},
          "execution_count": 15
        }
      ]
    },
    {
      "cell_type": "code",
      "source": [
        "a = True\n",
        "b = False\n",
        "a & b"
      ],
      "metadata": {
        "colab": {
          "base_uri": "https://localhost:8080/"
        },
        "id": "GjdQsQqMtLWK",
        "outputId": "1af9ac1c-5435-4170-d9ce-2b9638bb3a11"
      },
      "execution_count": null,
      "outputs": [
        {
          "output_type": "execute_result",
          "data": {
            "text/plain": [
              "False"
            ]
          },
          "metadata": {},
          "execution_count": 18
        }
      ]
    },
    {
      "cell_type": "code",
      "source": [
        "a & a"
      ],
      "metadata": {
        "colab": {
          "base_uri": "https://localhost:8080/"
        },
        "id": "-j1bca_Kta-n",
        "outputId": "33c20f2b-0a22-44e9-ad12-60b49e549bc9"
      },
      "execution_count": null,
      "outputs": [
        {
          "output_type": "execute_result",
          "data": {
            "text/plain": [
              "True"
            ]
          },
          "metadata": {},
          "execution_count": 19
        }
      ]
    },
    {
      "cell_type": "code",
      "source": [
        "b & b"
      ],
      "metadata": {
        "colab": {
          "base_uri": "https://localhost:8080/"
        },
        "id": "b7ywgB1stcy4",
        "outputId": "55c23ba4-9a59-46af-8082-f2c005cd75c9"
      },
      "execution_count": null,
      "outputs": [
        {
          "output_type": "execute_result",
          "data": {
            "text/plain": [
              "False"
            ]
          },
          "metadata": {},
          "execution_count": 20
        }
      ]
    },
    {
      "cell_type": "code",
      "source": [
        "a | b"
      ],
      "metadata": {
        "colab": {
          "base_uri": "https://localhost:8080/"
        },
        "id": "AabNbi0ZteZs",
        "outputId": "cf1413f6-551a-45e4-ef6c-f503d752a7e0"
      },
      "execution_count": null,
      "outputs": [
        {
          "output_type": "execute_result",
          "data": {
            "text/plain": [
              "True"
            ]
          },
          "metadata": {},
          "execution_count": 21
        }
      ]
    },
    {
      "cell_type": "code",
      "source": [
        "b | b"
      ],
      "metadata": {
        "colab": {
          "base_uri": "https://localhost:8080/"
        },
        "id": "yCaU67ksth_L",
        "outputId": "991aa88e-43c3-4843-cecc-3ef31424c83e"
      },
      "execution_count": null,
      "outputs": [
        {
          "output_type": "execute_result",
          "data": {
            "text/plain": [
              "False"
            ]
          },
          "metadata": {},
          "execution_count": 22
        }
      ]
    },
    {
      "cell_type": "markdown",
      "source": [
        "##Strings"
      ],
      "metadata": {
        "id": "UmzlDBSpttYt"
      }
    },
    {
      "cell_type": "code",
      "source": [
        "stringOne = \"Hello\"\n",
        "stringOne"
      ],
      "metadata": {
        "colab": {
          "base_uri": "https://localhost:8080/",
          "height": 35
        },
        "id": "Q3-neNlCtxHS",
        "outputId": "e6aae777-c176-4b43-d0c8-ee304a07df2f"
      },
      "execution_count": null,
      "outputs": [
        {
          "output_type": "execute_result",
          "data": {
            "text/plain": [
              "'Hello'"
            ],
            "application/vnd.google.colaboratory.intrinsic+json": {
              "type": "string"
            }
          },
          "metadata": {},
          "execution_count": 23
        }
      ]
    },
    {
      "cell_type": "markdown",
      "source": [
        "####Multiline strings"
      ],
      "metadata": {
        "id": "4J34964iupfD"
      }
    },
    {
      "cell_type": "code",
      "source": [
        "stringTwo = '''My friends\n",
        "multiline'''\n",
        "stringTwo"
      ],
      "metadata": {
        "colab": {
          "base_uri": "https://localhost:8080/",
          "height": 35
        },
        "id": "eUAa_lVgutk5",
        "outputId": "819e0be7-1ed9-4cbc-bfbf-d76b69ef98d2"
      },
      "execution_count": null,
      "outputs": [
        {
          "output_type": "execute_result",
          "data": {
            "text/plain": [
              "'My friends\\nmultiline'"
            ],
            "application/vnd.google.colaboratory.intrinsic+json": {
              "type": "string"
            }
          },
          "metadata": {},
          "execution_count": 25
        }
      ]
    },
    {
      "cell_type": "markdown",
      "source": [
        "#### Extracting characters from strings"
      ],
      "metadata": {
        "id": "OR_JP7qfvAsQ"
      }
    },
    {
      "cell_type": "code",
      "source": [
        "stringOne[0]"
      ],
      "metadata": {
        "colab": {
          "base_uri": "https://localhost:8080/",
          "height": 35
        },
        "id": "OwL19e88vFKF",
        "outputId": "b9b4a248-c30c-414a-a0b9-c47532f4f570"
      },
      "execution_count": null,
      "outputs": [
        {
          "output_type": "execute_result",
          "data": {
            "text/plain": [
              "'H'"
            ],
            "application/vnd.google.colaboratory.intrinsic+json": {
              "type": "string"
            }
          },
          "metadata": {},
          "execution_count": 26
        }
      ]
    },
    {
      "cell_type": "code",
      "source": [
        "stringOne[-1]"
      ],
      "metadata": {
        "colab": {
          "base_uri": "https://localhost:8080/",
          "height": 35
        },
        "id": "JeVG1zbsvM8k",
        "outputId": "106300e9-b13d-43cb-8e03-e4e642474b50"
      },
      "execution_count": null,
      "outputs": [
        {
          "output_type": "execute_result",
          "data": {
            "text/plain": [
              "'o'"
            ],
            "application/vnd.google.colaboratory.intrinsic+json": {
              "type": "string"
            }
          },
          "metadata": {},
          "execution_count": 27
        }
      ]
    },
    {
      "cell_type": "code",
      "source": [
        "stringOne[0:3]"
      ],
      "metadata": {
        "colab": {
          "base_uri": "https://localhost:8080/",
          "height": 35
        },
        "id": "ieBj7N3ovRy3",
        "outputId": "c7be686b-9096-4b80-915d-85ff7e8e499b"
      },
      "execution_count": null,
      "outputs": [
        {
          "output_type": "execute_result",
          "data": {
            "text/plain": [
              "'Hel'"
            ],
            "application/vnd.google.colaboratory.intrinsic+json": {
              "type": "string"
            }
          },
          "metadata": {},
          "execution_count": 28
        }
      ]
    },
    {
      "cell_type": "markdown",
      "source": [
        "####Finding the length of strings"
      ],
      "metadata": {
        "id": "x1RenC47ve21"
      }
    },
    {
      "cell_type": "code",
      "source": [
        "len(stringTwo)"
      ],
      "metadata": {
        "colab": {
          "base_uri": "https://localhost:8080/"
        },
        "id": "JM1lz7YLvjgA",
        "outputId": "a0d7f9c7-e4de-4018-f446-b2be3277fced"
      },
      "execution_count": null,
      "outputs": [
        {
          "output_type": "execute_result",
          "data": {
            "text/plain": [
              "20"
            ]
          },
          "metadata": {},
          "execution_count": 29
        }
      ]
    },
    {
      "cell_type": "markdown",
      "source": [
        "####Changing the case of strings"
      ],
      "metadata": {
        "id": "lxtgvtAbvpB1"
      }
    },
    {
      "cell_type": "code",
      "source": [
        "stringOne.lower()"
      ],
      "metadata": {
        "colab": {
          "base_uri": "https://localhost:8080/",
          "height": 35
        },
        "id": "0E36mWD7vsN0",
        "outputId": "d4018d85-f96b-4557-a223-987ac80787fa"
      },
      "execution_count": null,
      "outputs": [
        {
          "output_type": "execute_result",
          "data": {
            "text/plain": [
              "'hello'"
            ],
            "application/vnd.google.colaboratory.intrinsic+json": {
              "type": "string"
            }
          },
          "metadata": {},
          "execution_count": 30
        }
      ]
    },
    {
      "cell_type": "code",
      "source": [
        "stringOne.upper()"
      ],
      "metadata": {
        "colab": {
          "base_uri": "https://localhost:8080/",
          "height": 35
        },
        "id": "t6X3jO1BvzM9",
        "outputId": "0affca69-2cc2-4d57-8143-31122b609f98"
      },
      "execution_count": null,
      "outputs": [
        {
          "output_type": "execute_result",
          "data": {
            "text/plain": [
              "'HELLO'"
            ],
            "application/vnd.google.colaboratory.intrinsic+json": {
              "type": "string"
            }
          },
          "metadata": {},
          "execution_count": 31
        }
      ]
    },
    {
      "cell_type": "markdown",
      "source": [
        "#### Replacing substrings"
      ],
      "metadata": {
        "id": "P3oA27zbwE9P"
      }
    },
    {
      "cell_type": "code",
      "source": [
        "stringOne.replace(\"l\",\"y\")"
      ],
      "metadata": {
        "colab": {
          "base_uri": "https://localhost:8080/",
          "height": 35
        },
        "id": "NsLtK4K9wO-B",
        "outputId": "137366ab-9bee-4542-8970-1e8866cbf66f"
      },
      "execution_count": null,
      "outputs": [
        {
          "output_type": "execute_result",
          "data": {
            "text/plain": [
              "'Heyyo'"
            ],
            "application/vnd.google.colaboratory.intrinsic+json": {
              "type": "string"
            }
          },
          "metadata": {},
          "execution_count": 32
        }
      ]
    },
    {
      "cell_type": "markdown",
      "source": [
        "####Listing the number of occurences in a string"
      ],
      "metadata": {
        "id": "qgICRvt8wb5I"
      }
    },
    {
      "cell_type": "code",
      "source": [
        "stringOne.count(\"l\")"
      ],
      "metadata": {
        "colab": {
          "base_uri": "https://localhost:8080/"
        },
        "id": "-H4FgB7Rwbl0",
        "outputId": "d7bc5a3d-5b7b-4d49-9307-1df0f5613591"
      },
      "execution_count": null,
      "outputs": [
        {
          "output_type": "execute_result",
          "data": {
            "text/plain": [
              "2"
            ]
          },
          "metadata": {},
          "execution_count": 33
        }
      ]
    },
    {
      "cell_type": "markdown",
      "source": [
        "####Finding the index of a substring"
      ],
      "metadata": {
        "id": "zqO_TNvTxRJ8"
      }
    },
    {
      "cell_type": "code",
      "source": [
        "stringTwo.find(\"friends\")"
      ],
      "metadata": {
        "colab": {
          "base_uri": "https://localhost:8080/"
        },
        "id": "l4e3QHFVxQWR",
        "outputId": "fefc4548-0751-4d64-952c-c55014cdccaa"
      },
      "execution_count": null,
      "outputs": [
        {
          "output_type": "execute_result",
          "data": {
            "text/plain": [
              "3"
            ]
          },
          "metadata": {},
          "execution_count": 34
        }
      ]
    },
    {
      "cell_type": "markdown",
      "source": [
        "####Splitting a string"
      ],
      "metadata": {
        "id": "qkYqQpDKxm_T"
      }
    },
    {
      "cell_type": "code",
      "source": [
        "stringTwo.split(\"r\")"
      ],
      "metadata": {
        "colab": {
          "base_uri": "https://localhost:8080/"
        },
        "id": "dW9I0DKCxQgy",
        "outputId": "b322601a-95af-4419-f715-f4ca4c6d571e"
      },
      "execution_count": null,
      "outputs": [
        {
          "output_type": "execute_result",
          "data": {
            "text/plain": [
              "['My f', 'iends\\nmultiline']"
            ]
          },
          "metadata": {},
          "execution_count": 35
        }
      ]
    },
    {
      "cell_type": "markdown",
      "source": [
        "## Tuples\n",
        "#### immutable  lists within ()"
      ],
      "metadata": {
        "id": "c5S0vnEi0FZd"
      }
    },
    {
      "cell_type": "code",
      "source": [
        "Tuple = (1,\"e\",True,False,4,\"II\")"
      ],
      "metadata": {
        "id": "9NZOl50y0Pet"
      },
      "execution_count": null,
      "outputs": []
    },
    {
      "cell_type": "markdown",
      "source": [
        "#### Accsessing indexes and sections from a tuple"
      ],
      "metadata": {
        "id": "Kzck9vYU1lTv"
      }
    },
    {
      "cell_type": "code",
      "source": [
        "Tuple[0]"
      ],
      "metadata": {
        "colab": {
          "base_uri": "https://localhost:8080/"
        },
        "id": "8977kgJ71s0W",
        "outputId": "c9d4b5d6-008d-4f81-fb81-2c8ba8e3802e"
      },
      "execution_count": null,
      "outputs": [
        {
          "output_type": "execute_result",
          "data": {
            "text/plain": [
              "1"
            ]
          },
          "metadata": {},
          "execution_count": 40
        }
      ]
    },
    {
      "cell_type": "code",
      "source": [
        "Tuple[-1]"
      ],
      "metadata": {
        "colab": {
          "base_uri": "https://localhost:8080/",
          "height": 35
        },
        "id": "SRmkMHsB2Cye",
        "outputId": "90ea0d6f-54a2-4a54-b54d-9178acb01471"
      },
      "execution_count": null,
      "outputs": [
        {
          "output_type": "execute_result",
          "data": {
            "text/plain": [
              "'II'"
            ],
            "application/vnd.google.colaboratory.intrinsic+json": {
              "type": "string"
            }
          },
          "metadata": {},
          "execution_count": 41
        }
      ]
    },
    {
      "cell_type": "code",
      "source": [
        "Tuple[0:3]"
      ],
      "metadata": {
        "colab": {
          "base_uri": "https://localhost:8080/"
        },
        "id": "HIwx6L-t2HGp",
        "outputId": "5fc7056e-1ccf-4152-f44e-0fcf5df3092f"
      },
      "execution_count": null,
      "outputs": [
        {
          "output_type": "execute_result",
          "data": {
            "text/plain": [
              "(1, 'e', True)"
            ]
          },
          "metadata": {},
          "execution_count": 43
        }
      ]
    },
    {
      "cell_type": "code",
      "source": [
        "Tuple[1] = \"yes\"\n",
        "# this fails as tuples are immutable"
      ],
      "metadata": {
        "colab": {
          "base_uri": "https://localhost:8080/",
          "height": 166
        },
        "id": "7F0c711c24kk",
        "outputId": "6786e6e9-0f1d-4170-e5c0-90a688374e42"
      },
      "execution_count": null,
      "outputs": [
        {
          "output_type": "error",
          "ename": "TypeError",
          "evalue": "ignored",
          "traceback": [
            "\u001b[0;31m---------------------------------------------------------------------------\u001b[0m",
            "\u001b[0;31mTypeError\u001b[0m                                 Traceback (most recent call last)",
            "\u001b[0;32m<ipython-input-44-2a9207c5c097>\u001b[0m in \u001b[0;36m<module>\u001b[0;34m\u001b[0m\n\u001b[0;32m----> 1\u001b[0;31m \u001b[0mTuple\u001b[0m\u001b[0;34m[\u001b[0m\u001b[0;36m1\u001b[0m\u001b[0;34m]\u001b[0m \u001b[0;34m=\u001b[0m \u001b[0;34m\"yes\"\u001b[0m\u001b[0;34m\u001b[0m\u001b[0;34m\u001b[0m\u001b[0m\n\u001b[0m",
            "\u001b[0;31mTypeError\u001b[0m: 'tuple' object does not support item assignment"
          ]
        }
      ]
    },
    {
      "cell_type": "code",
      "source": [
        "Tuple[6] = \"new\"\n",
        "#you cant add to a tuple either"
      ],
      "metadata": {
        "colab": {
          "base_uri": "https://localhost:8080/",
          "height": 166
        },
        "id": "2jzvg2Cc3BeD",
        "outputId": "437c5e04-ebc6-477a-aa72-cc8e8070baed"
      },
      "execution_count": null,
      "outputs": [
        {
          "output_type": "error",
          "ename": "TypeError",
          "evalue": "ignored",
          "traceback": [
            "\u001b[0;31m---------------------------------------------------------------------------\u001b[0m",
            "\u001b[0;31mTypeError\u001b[0m                                 Traceback (most recent call last)",
            "\u001b[0;32m<ipython-input-45-cf09a4b02fc7>\u001b[0m in \u001b[0;36m<module>\u001b[0;34m\u001b[0m\n\u001b[0;32m----> 1\u001b[0;31m \u001b[0mTuple\u001b[0m\u001b[0;34m[\u001b[0m\u001b[0;36m6\u001b[0m\u001b[0;34m]\u001b[0m \u001b[0;34m=\u001b[0m \u001b[0;34m\"yes\"\u001b[0m\u001b[0;34m\u001b[0m\u001b[0;34m\u001b[0m\u001b[0m\n\u001b[0m",
            "\u001b[0;31mTypeError\u001b[0m: 'tuple' object does not support item assignment"
          ]
        }
      ]
    },
    {
      "cell_type": "markdown",
      "source": [
        "####Tuple length"
      ],
      "metadata": {
        "id": "8odGNYJK3Pbq"
      }
    },
    {
      "cell_type": "markdown",
      "source": [
        "### All the methods for tuples"
      ],
      "metadata": {
        "id": "9AFBY_OcFFB-"
      }
    },
    {
      "cell_type": "code",
      "source": [
        "t = ()\n",
        "dir(t)"
      ],
      "metadata": {
        "colab": {
          "base_uri": "https://localhost:8080/"
        },
        "id": "JPRpfpGTFIIj",
        "outputId": "d3b63bdb-4a53-4db3-d405-fc8dbf082793"
      },
      "execution_count": 73,
      "outputs": [
        {
          "output_type": "execute_result",
          "data": {
            "text/plain": [
              "['__add__',\n",
              " '__class__',\n",
              " '__class_getitem__',\n",
              " '__contains__',\n",
              " '__delattr__',\n",
              " '__dir__',\n",
              " '__doc__',\n",
              " '__eq__',\n",
              " '__format__',\n",
              " '__ge__',\n",
              " '__getattribute__',\n",
              " '__getitem__',\n",
              " '__getnewargs__',\n",
              " '__gt__',\n",
              " '__hash__',\n",
              " '__init__',\n",
              " '__init_subclass__',\n",
              " '__iter__',\n",
              " '__le__',\n",
              " '__len__',\n",
              " '__lt__',\n",
              " '__mul__',\n",
              " '__ne__',\n",
              " '__new__',\n",
              " '__reduce__',\n",
              " '__reduce_ex__',\n",
              " '__repr__',\n",
              " '__rmul__',\n",
              " '__setattr__',\n",
              " '__sizeof__',\n",
              " '__str__',\n",
              " '__subclasshook__',\n",
              " 'count',\n",
              " 'index']"
            ]
          },
          "metadata": {},
          "execution_count": 73
        }
      ]
    },
    {
      "cell_type": "code",
      "source": [
        "len(Tuple)"
      ],
      "metadata": {
        "colab": {
          "base_uri": "https://localhost:8080/"
        },
        "id": "8IrJBn8x3SQ8",
        "outputId": "2a2dd08c-7e0b-4435-c339-011fe6bba049"
      },
      "execution_count": null,
      "outputs": [
        {
          "output_type": "execute_result",
          "data": {
            "text/plain": [
              "6"
            ]
          },
          "metadata": {},
          "execution_count": 47
        }
      ]
    },
    {
      "cell_type": "markdown",
      "source": [
        "####Concatenating tuples"
      ],
      "metadata": {
        "id": "oQkXf5HC3gml"
      }
    },
    {
      "cell_type": "code",
      "source": [
        "tuple2 = (\"danny\",\"don\")\n",
        "Tuple + tuple2"
      ],
      "metadata": {
        "colab": {
          "base_uri": "https://localhost:8080/"
        },
        "id": "I7haS71W3YbF",
        "outputId": "5e2696a0-5da6-44d5-c4ae-18f8a98db5ee"
      },
      "execution_count": null,
      "outputs": [
        {
          "output_type": "execute_result",
          "data": {
            "text/plain": [
              "(1, 'e', True, False, 4, 'II', 'danny', 'don')"
            ]
          },
          "metadata": {},
          "execution_count": 48
        }
      ]
    },
    {
      "cell_type": "markdown",
      "source": [
        "####Repeating Tuples"
      ],
      "metadata": {
        "id": "ZQqw6wDb3rvZ"
      }
    },
    {
      "cell_type": "code",
      "source": [
        "tuple2*3"
      ],
      "metadata": {
        "colab": {
          "base_uri": "https://localhost:8080/"
        },
        "id": "XqS_wt783rZP",
        "outputId": "9890865a-e74b-4363-866e-ac76fc357414"
      },
      "execution_count": null,
      "outputs": [
        {
          "output_type": "execute_result",
          "data": {
            "text/plain": [
              "('danny', 'don', 'danny', 'don', 'danny', 'don')"
            ]
          },
          "metadata": {},
          "execution_count": 50
        }
      ]
    },
    {
      "cell_type": "markdown",
      "source": [
        "Finding the minimum and maximum value from a tuple"
      ],
      "metadata": {
        "id": "6o0sIdlD6RUz"
      }
    },
    {
      "cell_type": "code",
      "source": [
        "tup = (1,2,3,4,5,6,7,7,8)\n",
        "min(tup)"
      ],
      "metadata": {
        "colab": {
          "base_uri": "https://localhost:8080/"
        },
        "id": "GXo5rsvD586t",
        "outputId": "63ecb6ad-5688-4dab-dbb0-22d2edd5ff28"
      },
      "execution_count": 79,
      "outputs": [
        {
          "output_type": "execute_result",
          "data": {
            "text/plain": [
              "1"
            ]
          },
          "metadata": {},
          "execution_count": 79
        }
      ]
    },
    {
      "cell_type": "code",
      "source": [
        "max(tup)"
      ],
      "metadata": {
        "colab": {
          "base_uri": "https://localhost:8080/"
        },
        "id": "U6uSn2yT6VfH",
        "outputId": "5a86e07a-ffc7-46b3-c03d-45ed19d9b51e"
      },
      "execution_count": null,
      "outputs": [
        {
          "output_type": "execute_result",
          "data": {
            "text/plain": [
              "8"
            ]
          },
          "metadata": {},
          "execution_count": 55
        }
      ]
    },
    {
      "cell_type": "markdown",
      "source": [
        "Finding the number of times an element is mentioned in the tuple"
      ],
      "metadata": {
        "id": "SosB8pkTFWDg"
      }
    },
    {
      "cell_type": "code",
      "source": [
        "tup.count(7)"
      ],
      "metadata": {
        "colab": {
          "base_uri": "https://localhost:8080/"
        },
        "id": "_3auN8F7Fbns",
        "outputId": "65c37375-512e-4c75-c9c8-771c130531f7"
      },
      "execution_count": 77,
      "outputs": [
        {
          "output_type": "execute_result",
          "data": {
            "text/plain": [
              "2"
            ]
          },
          "metadata": {},
          "execution_count": 77
        }
      ]
    },
    {
      "cell_type": "markdown",
      "source": [
        "##### Finding the value at an index"
      ],
      "metadata": {
        "id": "SoDQY87QFlUU"
      }
    },
    {
      "cell_type": "code",
      "source": [
        "tup.index(2)"
      ],
      "metadata": {
        "colab": {
          "base_uri": "https://localhost:8080/"
        },
        "id": "dSRRQ_IwFq3m",
        "outputId": "5949a357-7e46-4690-b048-74df76c3acbd"
      },
      "execution_count": 80,
      "outputs": [
        {
          "output_type": "execute_result",
          "data": {
            "text/plain": [
              "1"
            ]
          },
          "metadata": {},
          "execution_count": 80
        }
      ]
    },
    {
      "cell_type": "markdown",
      "source": [
        "##Lists\n",
        "#### mutable\n",
        "#### [ ]"
      ],
      "metadata": {
        "id": "xU9kp96IoIlt"
      }
    },
    {
      "cell_type": "markdown",
      "source": [
        "### How to look at all the methods for a list"
      ],
      "metadata": {
        "id": "qwg9WNiRBZ7c"
      }
    },
    {
      "cell_type": "code",
      "source": [
        "x = []\n",
        "dir(x)"
      ],
      "metadata": {
        "colab": {
          "base_uri": "https://localhost:8080/"
        },
        "id": "-PowvsNCBZWt",
        "outputId": "8b508fa8-f849-4b19-d378-b39d076067f6"
      },
      "execution_count": 64,
      "outputs": [
        {
          "output_type": "execute_result",
          "data": {
            "text/plain": [
              "['__add__',\n",
              " '__class__',\n",
              " '__class_getitem__',\n",
              " '__contains__',\n",
              " '__delattr__',\n",
              " '__delitem__',\n",
              " '__dir__',\n",
              " '__doc__',\n",
              " '__eq__',\n",
              " '__format__',\n",
              " '__ge__',\n",
              " '__getattribute__',\n",
              " '__getitem__',\n",
              " '__gt__',\n",
              " '__hash__',\n",
              " '__iadd__',\n",
              " '__imul__',\n",
              " '__init__',\n",
              " '__init_subclass__',\n",
              " '__iter__',\n",
              " '__le__',\n",
              " '__len__',\n",
              " '__lt__',\n",
              " '__mul__',\n",
              " '__ne__',\n",
              " '__new__',\n",
              " '__reduce__',\n",
              " '__reduce_ex__',\n",
              " '__repr__',\n",
              " '__reversed__',\n",
              " '__rmul__',\n",
              " '__setattr__',\n",
              " '__setitem__',\n",
              " '__sizeof__',\n",
              " '__str__',\n",
              " '__subclasshook__',\n",
              " 'append',\n",
              " 'clear',\n",
              " 'copy',\n",
              " 'count',\n",
              " 'extend',\n",
              " 'index',\n",
              " 'insert',\n",
              " 'pop',\n",
              " 'remove',\n",
              " 'reverse',\n",
              " 'sort']"
            ]
          },
          "metadata": {},
          "execution_count": 64
        }
      ]
    },
    {
      "cell_type": "code",
      "source": [
        "List = [\"dan\",2,\"the\",89, \"man\",6.16]\n",
        "List"
      ],
      "metadata": {
        "colab": {
          "base_uri": "https://localhost:8080/"
        },
        "id": "e5_Tux7ooPij",
        "outputId": "2c29e573-c6e5-4c05-a7f3-fb770390767d"
      },
      "execution_count": 71,
      "outputs": [
        {
          "output_type": "execute_result",
          "data": {
            "text/plain": [
              "['dan', 2, 'the', 89, 'man', 6.16]"
            ]
          },
          "metadata": {},
          "execution_count": 71
        }
      ]
    },
    {
      "cell_type": "code",
      "source": [
        "type(List)"
      ],
      "metadata": {
        "colab": {
          "base_uri": "https://localhost:8080/"
        },
        "id": "NYglIXxgolSv",
        "outputId": "21a0de44-aa62-4f39-a148-f0253745b068"
      },
      "execution_count": 4,
      "outputs": [
        {
          "output_type": "execute_result",
          "data": {
            "text/plain": [
              "list"
            ]
          },
          "metadata": {},
          "execution_count": 4
        }
      ]
    },
    {
      "cell_type": "markdown",
      "source": [
        "##### Returning the number of occurences of an element in a list"
      ],
      "metadata": {
        "id": "fApfb6wxDP4s"
      }
    },
    {
      "cell_type": "code",
      "source": [
        "List.count(2)"
      ],
      "metadata": {
        "colab": {
          "base_uri": "https://localhost:8080/"
        },
        "id": "UqNxuVe4ArEC",
        "outputId": "e035ecd3-54f4-4431-e26e-946cb5f2bbd2"
      },
      "execution_count": 72,
      "outputs": [
        {
          "output_type": "execute_result",
          "data": {
            "text/plain": [
              "0"
            ]
          },
          "metadata": {},
          "execution_count": 72
        }
      ]
    },
    {
      "cell_type": "markdown",
      "source": [
        "####Extracting Individual Elements"
      ],
      "metadata": {
        "id": "CzJaPVKgoo5G"
      }
    },
    {
      "cell_type": "code",
      "source": [
        "List[1]"
      ],
      "metadata": {
        "colab": {
          "base_uri": "https://localhost:8080/"
        },
        "id": "-CGuvctZoxFu",
        "outputId": "c98b7841-52ea-4292-8acf-11338807c699"
      },
      "execution_count": 5,
      "outputs": [
        {
          "output_type": "execute_result",
          "data": {
            "text/plain": [
              "2"
            ]
          },
          "metadata": {},
          "execution_count": 5
        }
      ]
    },
    {
      "cell_type": "markdown",
      "source": [
        "##### Slicing / Extracting between two elements"
      ],
      "metadata": {
        "id": "Km_Z0B3zo3cv"
      }
    },
    {
      "cell_type": "code",
      "source": [
        "List[2:4]"
      ],
      "metadata": {
        "colab": {
          "base_uri": "https://localhost:8080/"
        },
        "id": "wuuzMxEbozEC",
        "outputId": "49c3beef-a419-4f92-f5ed-380acd947360"
      },
      "execution_count": 6,
      "outputs": [
        {
          "output_type": "execute_result",
          "data": {
            "text/plain": [
              "['the', 89]"
            ]
          },
          "metadata": {},
          "execution_count": 6
        }
      ]
    },
    {
      "cell_type": "markdown",
      "source": [
        "##### Finding the length of a list"
      ],
      "metadata": {
        "id": "CosjVjbyArXQ"
      }
    },
    {
      "cell_type": "code",
      "source": [
        "len(List)"
      ],
      "metadata": {
        "colab": {
          "base_uri": "https://localhost:8080/"
        },
        "id": "9Li4FrtkCj0H",
        "outputId": "f4d40d15-55a9-4ebf-e351-dd3905722bf5"
      },
      "execution_count": 69,
      "outputs": [
        {
          "output_type": "execute_result",
          "data": {
            "text/plain": [
              "7"
            ]
          },
          "metadata": {},
          "execution_count": 69
        }
      ]
    },
    {
      "cell_type": "code",
      "source": [
        "List.clear()\n",
        "List"
      ],
      "metadata": {
        "colab": {
          "base_uri": "https://localhost:8080/"
        },
        "id": "wf10tnBSCqcs",
        "outputId": "67d7afa7-bc74-414c-9261-5d70dc7e5890"
      },
      "execution_count": 70,
      "outputs": [
        {
          "output_type": "execute_result",
          "data": {
            "text/plain": [
              "[]"
            ]
          },
          "metadata": {},
          "execution_count": 70
        }
      ]
    },
    {
      "cell_type": "markdown",
      "source": [
        "####Modifying lists"
      ],
      "metadata": {
        "id": "j9akb-Yaot94"
      }
    },
    {
      "cell_type": "markdown",
      "source": [
        "##### Changing an element"
      ],
      "metadata": {
        "id": "XLbOXjOjpwwi"
      }
    },
    {
      "cell_type": "code",
      "source": [
        "List[0] = 99\n",
        "List"
      ],
      "metadata": {
        "colab": {
          "base_uri": "https://localhost:8080/"
        },
        "id": "eOMZE-Trpq__",
        "outputId": "915fae1d-7163-42af-b849-70b0e51185bf"
      },
      "execution_count": 8,
      "outputs": [
        {
          "output_type": "execute_result",
          "data": {
            "text/plain": [
              "[99, 2, 'the', 89, 'man', 6.16]"
            ]
          },
          "metadata": {},
          "execution_count": 8
        }
      ]
    },
    {
      "cell_type": "markdown",
      "source": [
        "##### Adding a new element"
      ],
      "metadata": {
        "id": "XOnIpw_gpz8f"
      }
    },
    {
      "cell_type": "code",
      "source": [
        "List.append(99)\n",
        "List"
      ],
      "metadata": {
        "colab": {
          "base_uri": "https://localhost:8080/"
        },
        "id": "_c4ApqZ-p3fF",
        "outputId": "3ccbbc1a-2103-48dc-a623-bd464e55e41b"
      },
      "execution_count": 15,
      "outputs": [
        {
          "output_type": "execute_result",
          "data": {
            "text/plain": [
              "[99, 2, 'the', 89, 'man', 6.16, 99]"
            ]
          },
          "metadata": {},
          "execution_count": 15
        }
      ]
    },
    {
      "cell_type": "markdown",
      "source": [
        "##### Removing the last element"
      ],
      "metadata": {
        "id": "-9E5ThyMqNft"
      }
    },
    {
      "cell_type": "code",
      "source": [
        "List.pop()\n",
        "List"
      ],
      "metadata": {
        "colab": {
          "base_uri": "https://localhost:8080/"
        },
        "id": "UL1hTi-LqQ7b",
        "outputId": "8e50fa9f-0724-40b0-9994-279011aefdab"
      },
      "execution_count": 16,
      "outputs": [
        {
          "output_type": "execute_result",
          "data": {
            "text/plain": [
              "[99, 2, 'the', 89, 'man', 6.16]"
            ]
          },
          "metadata": {},
          "execution_count": 16
        }
      ]
    },
    {
      "cell_type": "markdown",
      "source": [
        "##### Reversing lists"
      ],
      "metadata": {
        "id": "0GprLbJh0B1V"
      }
    },
    {
      "cell_type": "code",
      "source": [
        "List.reverse()\n",
        "List"
      ],
      "metadata": {
        "colab": {
          "base_uri": "https://localhost:8080/"
        },
        "id": "k9qrzfTd0Dxj",
        "outputId": "7dee6e2a-26ee-449e-c55a-2ef9d707f399"
      },
      "execution_count": 17,
      "outputs": [
        {
          "output_type": "execute_result",
          "data": {
            "text/plain": [
              "[6.16, 'man', 89, 'the', 2, 99]"
            ]
          },
          "metadata": {},
          "execution_count": 17
        }
      ]
    },
    {
      "cell_type": "markdown",
      "source": [
        "##### Inserting an element at a specified index"
      ],
      "metadata": {
        "id": "BQji3YSy0HVD"
      }
    },
    {
      "cell_type": "code",
      "source": [
        "List.insert(3,\"dude\")\n",
        "List"
      ],
      "metadata": {
        "colab": {
          "base_uri": "https://localhost:8080/"
        },
        "id": "deU50S5o0MuQ",
        "outputId": "6324a0e4-6d60-4800-a19c-e8a2aafcb8bc"
      },
      "execution_count": 18,
      "outputs": [
        {
          "output_type": "execute_result",
          "data": {
            "text/plain": [
              "[6.16, 'man', 89, 'dude', 'the', 2, 99]"
            ]
          },
          "metadata": {},
          "execution_count": 18
        }
      ]
    },
    {
      "cell_type": "markdown",
      "source": [
        "#####  Sorting lists"
      ],
      "metadata": {
        "id": "RQQZLEzg0V0z"
      }
    },
    {
      "cell_type": "code",
      "source": [
        "List2 = [\"a\",\"lion\",\"king\",\"boo\",\"eager\"]\n",
        "List2.sort()\n",
        "List2"
      ],
      "metadata": {
        "colab": {
          "base_uri": "https://localhost:8080/"
        },
        "id": "OV-OwH-k0VYf",
        "outputId": "d8198f4a-4e56-4517-859a-0f973d3a7d15"
      },
      "execution_count": 21,
      "outputs": [
        {
          "output_type": "execute_result",
          "data": {
            "text/plain": [
              "['a', 'boo', 'eager', 'king', 'lion']"
            ]
          },
          "metadata": {},
          "execution_count": 21
        }
      ]
    },
    {
      "cell_type": "markdown",
      "source": [
        "##### Concatenating lists"
      ],
      "metadata": {
        "id": "719TLSfE0rm5"
      }
    },
    {
      "cell_type": "code",
      "source": [
        "List+List2"
      ],
      "metadata": {
        "colab": {
          "base_uri": "https://localhost:8080/"
        },
        "id": "kDLL8H3Q0t-k",
        "outputId": "de1624d3-af27-4205-ae67-cf41d058cfed"
      },
      "execution_count": 23,
      "outputs": [
        {
          "output_type": "execute_result",
          "data": {
            "text/plain": [
              "[6.16, 'man', 89, 'dude', 'the', 2, 99, 'a', 'boo', 'eager', 'king', 'lion']"
            ]
          },
          "metadata": {},
          "execution_count": 23
        }
      ]
    },
    {
      "cell_type": "markdown",
      "source": [
        "#### Repeating lists"
      ],
      "metadata": {
        "id": "vQQuRi7q03WU"
      }
    },
    {
      "cell_type": "code",
      "source": [
        "List*2"
      ],
      "metadata": {
        "colab": {
          "base_uri": "https://localhost:8080/"
        },
        "id": "iFqOAfaV02ab",
        "outputId": "29e8d355-4182-406a-99c3-0abaaf5bf15c"
      },
      "execution_count": 25,
      "outputs": [
        {
          "output_type": "execute_result",
          "data": {
            "text/plain": [
              "[6.16, 'man', 89, 'dude', 'the', 2, 99, 6.16, 'man', 89, 'dude', 'the', 2, 99]"
            ]
          },
          "metadata": {},
          "execution_count": 25
        }
      ]
    },
    {
      "cell_type": "markdown",
      "source": [
        "## Dictionaries\n",
        "### Unordered key value pair collection\n",
        "\n",
        "###{}\n",
        "\n",
        "### mutable\n",
        "\n",
        "### keys are unique"
      ],
      "metadata": {
        "id": "h6M0zLVy1DLe"
      }
    },
    {
      "cell_type": "markdown",
      "source": [
        "### How to look at all the methods for a dict"
      ],
      "metadata": {
        "id": "DuTfC_e-BooW"
      }
    },
    {
      "cell_type": "code",
      "source": [
        "y = {}\n",
        "dir(y)"
      ],
      "metadata": {
        "colab": {
          "base_uri": "https://localhost:8080/"
        },
        "id": "Ca4Lw-54B8QF",
        "outputId": "f21fc069-0afa-403e-8e39-569084f29f8a"
      },
      "execution_count": 66,
      "outputs": [
        {
          "output_type": "execute_result",
          "data": {
            "text/plain": [
              "['__class__',\n",
              " '__class_getitem__',\n",
              " '__contains__',\n",
              " '__delattr__',\n",
              " '__delitem__',\n",
              " '__dir__',\n",
              " '__doc__',\n",
              " '__eq__',\n",
              " '__format__',\n",
              " '__ge__',\n",
              " '__getattribute__',\n",
              " '__getitem__',\n",
              " '__gt__',\n",
              " '__hash__',\n",
              " '__init__',\n",
              " '__init_subclass__',\n",
              " '__ior__',\n",
              " '__iter__',\n",
              " '__le__',\n",
              " '__len__',\n",
              " '__lt__',\n",
              " '__ne__',\n",
              " '__new__',\n",
              " '__or__',\n",
              " '__reduce__',\n",
              " '__reduce_ex__',\n",
              " '__repr__',\n",
              " '__reversed__',\n",
              " '__ror__',\n",
              " '__setattr__',\n",
              " '__setitem__',\n",
              " '__sizeof__',\n",
              " '__str__',\n",
              " '__subclasshook__',\n",
              " 'clear',\n",
              " 'copy',\n",
              " 'fromkeys',\n",
              " 'get',\n",
              " 'items',\n",
              " 'keys',\n",
              " 'pop',\n",
              " 'popitem',\n",
              " 'setdefault',\n",
              " 'update',\n",
              " 'values']"
            ]
          },
          "metadata": {},
          "execution_count": 66
        }
      ]
    },
    {
      "cell_type": "code",
      "source": [
        "Fruit = {\"apple\":\"green\", \"orange\" : \"orange\", \"grapes\": \"purple\"}\n",
        "Fruit"
      ],
      "metadata": {
        "colab": {
          "base_uri": "https://localhost:8080/"
        },
        "id": "5rGsZBnQ1Cvz",
        "outputId": "4857b55d-0098-468e-89d9-70c1a6b3af61"
      },
      "execution_count": 26,
      "outputs": [
        {
          "output_type": "execute_result",
          "data": {
            "text/plain": [
              "{'apple': 'green', 'orange': 'orange', 'grapes': 'purple'}"
            ]
          },
          "metadata": {},
          "execution_count": 26
        }
      ]
    },
    {
      "cell_type": "code",
      "source": [
        "type(Fruit)"
      ],
      "metadata": {
        "colab": {
          "base_uri": "https://localhost:8080/"
        },
        "id": "Im_U2-op1ghk",
        "outputId": "087d34af-e9df-426a-e385-35e3d4570faf"
      },
      "execution_count": 27,
      "outputs": [
        {
          "output_type": "execute_result",
          "data": {
            "text/plain": [
              "dict"
            ]
          },
          "metadata": {},
          "execution_count": 27
        }
      ]
    },
    {
      "cell_type": "markdown",
      "source": [
        "##### Extracting Keys"
      ],
      "metadata": {
        "id": "s5f30ZaB1lBI"
      }
    },
    {
      "cell_type": "code",
      "source": [
        "Fruit[\"grapes\"]"
      ],
      "metadata": {
        "colab": {
          "base_uri": "https://localhost:8080/",
          "height": 35
        },
        "id": "T1p58W-iPgca",
        "outputId": "a7ef7e8e-a29b-4954-935f-49a4620abd91"
      },
      "execution_count": 85,
      "outputs": [
        {
          "output_type": "execute_result",
          "data": {
            "text/plain": [
              "'purple'"
            ],
            "application/vnd.google.colaboratory.intrinsic+json": {
              "type": "string"
            }
          },
          "metadata": {},
          "execution_count": 85
        }
      ]
    },
    {
      "cell_type": "code",
      "source": [
        "Fruit.get(\"grapes\")"
      ],
      "metadata": {
        "colab": {
          "base_uri": "https://localhost:8080/",
          "height": 35
        },
        "id": "0k3ipHjWPnJh",
        "outputId": "be4aa3b9-a5b7-40a1-fc73-317e5ceb8e61"
      },
      "execution_count": 86,
      "outputs": [
        {
          "output_type": "execute_result",
          "data": {
            "text/plain": [
              "'purple'"
            ],
            "application/vnd.google.colaboratory.intrinsic+json": {
              "type": "string"
            }
          },
          "metadata": {},
          "execution_count": 86
        }
      ]
    },
    {
      "cell_type": "code",
      "source": [
        "Fruit.keys()"
      ],
      "metadata": {
        "colab": {
          "base_uri": "https://localhost:8080/"
        },
        "id": "lkt-6X2e1kmW",
        "outputId": "8ab39be2-560f-440f-e17d-08e3344b6920"
      },
      "execution_count": 28,
      "outputs": [
        {
          "output_type": "execute_result",
          "data": {
            "text/plain": [
              "dict_keys(['apple', 'orange', 'grapes'])"
            ]
          },
          "metadata": {},
          "execution_count": 28
        }
      ]
    },
    {
      "cell_type": "markdown",
      "source": [
        "##### Extracting values"
      ],
      "metadata": {
        "id": "6pRa4LcY1qBD"
      }
    },
    {
      "cell_type": "code",
      "source": [
        "Fruit.values()"
      ],
      "metadata": {
        "colab": {
          "base_uri": "https://localhost:8080/"
        },
        "id": "osRyHf3y1t6z",
        "outputId": "8c6d4413-bbe7-403a-e3a9-e669b397af7d"
      },
      "execution_count": 29,
      "outputs": [
        {
          "output_type": "execute_result",
          "data": {
            "text/plain": [
              "dict_values(['green', 'orange', 'purple'])"
            ]
          },
          "metadata": {},
          "execution_count": 29
        }
      ]
    },
    {
      "cell_type": "markdown",
      "source": [
        "##### Extracting the keys and its paired values"
      ],
      "metadata": {
        "id": "b0XiE2cU1x_u"
      }
    },
    {
      "cell_type": "code",
      "source": [
        "Fruit.items()"
      ],
      "metadata": {
        "colab": {
          "base_uri": "https://localhost:8080/"
        },
        "id": "SJlWp_yh1xsL",
        "outputId": "3611c598-b4df-426d-e3cc-565ecb0d880f"
      },
      "execution_count": 30,
      "outputs": [
        {
          "output_type": "execute_result",
          "data": {
            "text/plain": [
              "dict_items([('apple', 'green'), ('orange', 'orange'), ('grapes', 'purple')])"
            ]
          },
          "metadata": {},
          "execution_count": 30
        }
      ]
    },
    {
      "cell_type": "markdown",
      "source": [
        "##### Adding to a dictionary"
      ],
      "metadata": {
        "id": "x8XMlYi213p8"
      }
    },
    {
      "cell_type": "code",
      "source": [
        "Fruit[\"Mango\"] = \"Yellow\"\n",
        "Fruit"
      ],
      "metadata": {
        "colab": {
          "base_uri": "https://localhost:8080/"
        },
        "id": "CKV1UPaD18wo",
        "outputId": "6d51f06e-b3ef-4d9f-881e-41043736c08b"
      },
      "execution_count": 32,
      "outputs": [
        {
          "output_type": "execute_result",
          "data": {
            "text/plain": [
              "{'apple': 'green', 'orange': 'orange', 'grapes': 'purple', 'Mango': 'Yellow'}"
            ]
          },
          "metadata": {},
          "execution_count": 32
        }
      ]
    },
    {
      "cell_type": "markdown",
      "source": [
        "##### Modifying existing values"
      ],
      "metadata": {
        "id": "ezPzslUS17je"
      }
    },
    {
      "cell_type": "code",
      "source": [
        "Fruit[\"apple\"] = \"Red\"\n",
        "Fruit"
      ],
      "metadata": {
        "colab": {
          "base_uri": "https://localhost:8080/"
        },
        "id": "kEHOFV5Q2LlD",
        "outputId": "805ecd5e-2880-4555-c3d8-c9565835bf5f"
      },
      "execution_count": 37,
      "outputs": [
        {
          "output_type": "execute_result",
          "data": {
            "text/plain": [
              "{'apple': 'Red', 'orange': 'orange', 'grapes': 'purple', 'Mango': 'Yellow'}"
            ]
          },
          "metadata": {},
          "execution_count": 37
        }
      ]
    },
    {
      "cell_type": "markdown",
      "source": [
        "#### Updating one dictionary's elements with another dictionary's elements"
      ],
      "metadata": {
        "id": "ycsclZ0e5ts3"
      }
    },
    {
      "cell_type": "code",
      "source": [
        "Fruits = {\"guava\":\"dark-green\",\"lychee\":\"white\",\"olive\":\"olive\"}"
      ],
      "metadata": {
        "id": "c_dGZ4SY3ct0"
      },
      "execution_count": 38,
      "outputs": []
    },
    {
      "cell_type": "code",
      "source": [
        "Fruit.update(Fruits)\n",
        "Fruit"
      ],
      "metadata": {
        "colab": {
          "base_uri": "https://localhost:8080/"
        },
        "id": "R5bW6LFd505t",
        "outputId": "1feb2c71-b1d7-4b0b-df61-730b9daa7496"
      },
      "execution_count": 40,
      "outputs": [
        {
          "output_type": "execute_result",
          "data": {
            "text/plain": [
              "{'apple': 'Red',\n",
              " 'orange': 'orange',\n",
              " 'grapes': 'purple',\n",
              " 'Mango': 'Yellow',\n",
              " 'guava': 'dark-green',\n",
              " 'lychee': 'white',\n",
              " 'olive': 'olive'}"
            ]
          },
          "metadata": {},
          "execution_count": 40
        }
      ]
    },
    {
      "cell_type": "markdown",
      "source": [
        "#### Removing elements from a dictionary"
      ],
      "metadata": {
        "id": "A09clXS56BdR"
      }
    },
    {
      "cell_type": "code",
      "source": [
        "Fruit.pop(\"lychee\")\n"
      ],
      "metadata": {
        "colab": {
          "base_uri": "https://localhost:8080/",
          "height": 35
        },
        "id": "oC-4E3Ea6BRc",
        "outputId": "af9ebec6-3369-457f-aea0-4b4f64ba81fe"
      },
      "execution_count": 42,
      "outputs": [
        {
          "output_type": "execute_result",
          "data": {
            "text/plain": [
              "'white'"
            ],
            "application/vnd.google.colaboratory.intrinsic+json": {
              "type": "string"
            }
          },
          "metadata": {},
          "execution_count": 42
        }
      ]
    },
    {
      "cell_type": "code",
      "source": [
        "Fruit"
      ],
      "metadata": {
        "colab": {
          "base_uri": "https://localhost:8080/"
        },
        "id": "vnb-Wclj6MIf",
        "outputId": "e7e52038-ec36-409b-ced4-e187a37595c4"
      },
      "execution_count": 43,
      "outputs": [
        {
          "output_type": "execute_result",
          "data": {
            "text/plain": [
              "{'apple': 'Red',\n",
              " 'orange': 'orange',\n",
              " 'grapes': 'purple',\n",
              " 'Mango': 'Yellow',\n",
              " 'guava': 'dark-green',\n",
              " 'olive': 'olive'}"
            ]
          },
          "metadata": {},
          "execution_count": 43
        }
      ]
    },
    {
      "cell_type": "markdown",
      "source": [
        "## Sets\n",
        "#### Unordered & unindexed collection of elements\n",
        "#### {}\n",
        "#### No duplicates"
      ],
      "metadata": {
        "id": "tEDEPtNs6juJ"
      }
    },
    {
      "cell_type": "markdown",
      "source": [
        "### methods for sets"
      ],
      "metadata": {
        "id": "dMx6fbVfHNk8"
      }
    },
    {
      "cell_type": "code",
      "source": [
        "z = {}\n",
        "dir(z)"
      ],
      "metadata": {
        "colab": {
          "base_uri": "https://localhost:8080/"
        },
        "id": "LVkL2mRsHQrW",
        "outputId": "8e03273a-d80c-4f51-c8ad-53abfaaca6d5"
      },
      "execution_count": 81,
      "outputs": [
        {
          "output_type": "execute_result",
          "data": {
            "text/plain": [
              "['__class__',\n",
              " '__class_getitem__',\n",
              " '__contains__',\n",
              " '__delattr__',\n",
              " '__delitem__',\n",
              " '__dir__',\n",
              " '__doc__',\n",
              " '__eq__',\n",
              " '__format__',\n",
              " '__ge__',\n",
              " '__getattribute__',\n",
              " '__getitem__',\n",
              " '__gt__',\n",
              " '__hash__',\n",
              " '__init__',\n",
              " '__init_subclass__',\n",
              " '__ior__',\n",
              " '__iter__',\n",
              " '__le__',\n",
              " '__len__',\n",
              " '__lt__',\n",
              " '__ne__',\n",
              " '__new__',\n",
              " '__or__',\n",
              " '__reduce__',\n",
              " '__reduce_ex__',\n",
              " '__repr__',\n",
              " '__reversed__',\n",
              " '__ror__',\n",
              " '__setattr__',\n",
              " '__setitem__',\n",
              " '__sizeof__',\n",
              " '__str__',\n",
              " '__subclasshook__',\n",
              " 'clear',\n",
              " 'copy',\n",
              " 'fromkeys',\n",
              " 'get',\n",
              " 'items',\n",
              " 'keys',\n",
              " 'pop',\n",
              " 'popitem',\n",
              " 'setdefault',\n",
              " 'update',\n",
              " 'values']"
            ]
          },
          "metadata": {},
          "execution_count": 81
        }
      ]
    },
    {
      "cell_type": "code",
      "source": [
        "Set1 = {1,2,4,True,\"Fat\"} \n",
        "Set1"
      ],
      "metadata": {
        "colab": {
          "base_uri": "https://localhost:8080/"
        },
        "id": "Z5EmKLBJ6jZb",
        "outputId": "4200682c-372d-4e7d-f6fb-ab77c3379a8e"
      },
      "execution_count": 54,
      "outputs": [
        {
          "output_type": "execute_result",
          "data": {
            "text/plain": [
              "{1, 2, 4, 'Fat'}"
            ]
          },
          "metadata": {},
          "execution_count": 54
        }
      ]
    },
    {
      "cell_type": "code",
      "source": [
        "Set2 = {2,2,2,2,2,3,4,\"hello\"}\n",
        "Set2"
      ],
      "metadata": {
        "colab": {
          "base_uri": "https://localhost:8080/"
        },
        "id": "jI2nxfw37BJD",
        "outputId": "e5ca5e15-75f1-4bf8-f161-a7d465421eda"
      },
      "execution_count": 47,
      "outputs": [
        {
          "output_type": "execute_result",
          "data": {
            "text/plain": [
              "{2, 3, 4, 'hello'}"
            ]
          },
          "metadata": {},
          "execution_count": 47
        }
      ]
    },
    {
      "cell_type": "markdown",
      "source": [
        "##### Adding a new element"
      ],
      "metadata": {
        "id": "GnXwYgRn7JUK"
      }
    },
    {
      "cell_type": "code",
      "source": [
        "Set1.add(\"brother\")\n",
        "Set1"
      ],
      "metadata": {
        "colab": {
          "base_uri": "https://localhost:8080/"
        },
        "id": "XNdzEw4Z7IN1",
        "outputId": "4f7f4c16-946f-4497-87f8-743a88cbae0b"
      },
      "execution_count": 55,
      "outputs": [
        {
          "output_type": "execute_result",
          "data": {
            "text/plain": [
              "{1, 2, 4, 'Fat', 'brother'}"
            ]
          },
          "metadata": {},
          "execution_count": 55
        }
      ]
    },
    {
      "cell_type": "markdown",
      "source": [
        "##### Updating elements"
      ],
      "metadata": {
        "id": "CU3WlPK27XjV"
      }
    },
    {
      "cell_type": "code",
      "source": [
        "Set1.update([\"dog\",\"cat\"])\n",
        "Set1\n",
        "#adds in a random order"
      ],
      "metadata": {
        "colab": {
          "base_uri": "https://localhost:8080/"
        },
        "id": "jNswSsB07SqR",
        "outputId": "f7f3e923-d897-4db7-b272-3c6125c732d7"
      },
      "execution_count": 56,
      "outputs": [
        {
          "output_type": "execute_result",
          "data": {
            "text/plain": [
              "{1, 2, 4, 'Fat', 'brother', 'cat', 'dog'}"
            ]
          },
          "metadata": {},
          "execution_count": 56
        }
      ]
    },
    {
      "cell_type": "markdown",
      "source": [
        "##### Removing an element"
      ],
      "metadata": {
        "id": "xYphxrSk-5_F"
      }
    },
    {
      "cell_type": "code",
      "source": [
        "Set1.remove(4)\n",
        "Set1"
      ],
      "metadata": {
        "colab": {
          "base_uri": "https://localhost:8080/"
        },
        "id": "X4DeGFAk-5qJ",
        "outputId": "3a51c126-95d5-4a0c-a584-ea69b5385010"
      },
      "execution_count": 58,
      "outputs": [
        {
          "output_type": "execute_result",
          "data": {
            "text/plain": [
              "{1, 2, 'Fat', 'brother', 'cat', 'dog'}"
            ]
          },
          "metadata": {},
          "execution_count": 58
        }
      ]
    },
    {
      "cell_type": "markdown",
      "source": [
        "#### .pop() removes a random value"
      ],
      "metadata": {
        "id": "AINrxq5CNHZW"
      }
    },
    {
      "cell_type": "code",
      "source": [
        "Set1.pop()\n",
        "Set1"
      ],
      "metadata": {
        "colab": {
          "base_uri": "https://localhost:8080/"
        },
        "id": "hCmgFV8tNaeA",
        "outputId": "0ab75a2f-d904-4c2d-857e-98b9f6886025"
      },
      "execution_count": 83,
      "outputs": [
        {
          "output_type": "execute_result",
          "data": {
            "text/plain": [
              "{2, 'Fat', 'brother', 'cat', 'dog'}"
            ]
          },
          "metadata": {},
          "execution_count": 83
        }
      ]
    },
    {
      "cell_type": "markdown",
      "source": [
        "##### Concatenating two sets"
      ],
      "metadata": {
        "id": "KeHic7gj_USN"
      }
    },
    {
      "cell_type": "code",
      "source": [
        "s2 = {3,4,1}\n",
        "Set1.union(s2)\n",
        "#duplicates are removed e.g 1"
      ],
      "metadata": {
        "colab": {
          "base_uri": "https://localhost:8080/"
        },
        "id": "RGSkbm89_Z4x",
        "outputId": "7e07d000-9871-43c8-fcba-da1602191398"
      },
      "execution_count": 59,
      "outputs": [
        {
          "output_type": "execute_result",
          "data": {
            "text/plain": [
              "{1, 2, 3, 4, 'Fat', 'brother', 'cat', 'dog'}"
            ]
          },
          "metadata": {},
          "execution_count": 59
        }
      ]
    },
    {
      "cell_type": "markdown",
      "source": [
        "##### Finding the values in both sets"
      ],
      "metadata": {
        "id": "cJnKdS-3_sof"
      }
    },
    {
      "cell_type": "code",
      "source": [
        "Set1.intersection(s2)"
      ],
      "metadata": {
        "colab": {
          "base_uri": "https://localhost:8080/"
        },
        "id": "o3whMMuP_2mr",
        "outputId": "a875a2f2-88e6-4046-a71d-ebb1d87bae75"
      },
      "execution_count": 60,
      "outputs": [
        {
          "output_type": "execute_result",
          "data": {
            "text/plain": [
              "{1}"
            ]
          },
          "metadata": {},
          "execution_count": 60
        }
      ]
    },
    {
      "cell_type": "markdown",
      "source": [
        "##### Finding the length of a set"
      ],
      "metadata": {
        "id": "kZb0pnPTLhvR"
      }
    },
    {
      "cell_type": "code",
      "source": [
        "len(Set1)\n"
      ],
      "metadata": {
        "colab": {
          "base_uri": "https://localhost:8080/"
        },
        "id": "SVACC0THLluT",
        "outputId": "7733a7f9-a667-40dd-f5c3-0df25c1ccfe5"
      },
      "execution_count": 84,
      "outputs": [
        {
          "output_type": "execute_result",
          "data": {
            "text/plain": [
              "5"
            ]
          },
          "metadata": {},
          "execution_count": 84
        }
      ]
    },
    {
      "cell_type": "markdown",
      "source": [
        "#### Finding the differences in two sets"
      ],
      "metadata": {
        "id": "K554RXNOQ5PH"
      }
    },
    {
      "cell_type": "code",
      "source": [
        "Set1.difference(s2)"
      ],
      "metadata": {
        "colab": {
          "base_uri": "https://localhost:8080/"
        },
        "id": "l19vNxwMQuU2",
        "outputId": "2a08cfa7-c091-49f6-f712-45f77c722d6e"
      },
      "execution_count": 89,
      "outputs": [
        {
          "output_type": "execute_result",
          "data": {
            "text/plain": [
              "{2, 'Fat', 'brother', 'cat', 'dog'}"
            ]
          },
          "metadata": {},
          "execution_count": 89
        }
      ]
    }
  ]
}